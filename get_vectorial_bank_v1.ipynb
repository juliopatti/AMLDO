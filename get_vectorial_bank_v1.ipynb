{
 "cells": [
  {
   "cell_type": "code",
   "execution_count": 1,
   "id": "8ca20a23",
   "metadata": {},
   "outputs": [
    {
     "name": "stderr",
     "output_type": "stream",
     "text": [
      "/home/julio/Documentos/agents_pos/amldo/AMLDO/venv2/lib/python3.11/site-packages/tqdm/auto.py:21: TqdmWarning: IProgress not found. Please update jupyter and ipywidgets. See https://ipywidgets.readthedocs.io/en/stable/user_install.html\n",
      "  from .autonotebook import tqdm as notebook_tqdm\n"
     ]
    },
    {
     "data": {
      "text/html": [
       "<div>\n",
       "<style scoped>\n",
       "    .dataframe tbody tr th:only-of-type {\n",
       "        vertical-align: middle;\n",
       "    }\n",
       "\n",
       "    .dataframe tbody tr th {\n",
       "        vertical-align: top;\n",
       "    }\n",
       "\n",
       "    .dataframe thead th {\n",
       "        text-align: right;\n",
       "    }\n",
       "</style>\n",
       "<table border=\"1\" class=\"dataframe\">\n",
       "  <thead>\n",
       "    <tr style=\"text-align: right;\">\n",
       "      <th></th>\n",
       "      <th>lei</th>\n",
       "      <th>titulo</th>\n",
       "      <th>capitulo</th>\n",
       "      <th>artigo</th>\n",
       "      <th>path</th>\n",
       "      <th>texto</th>\n",
       "    </tr>\n",
       "  </thead>\n",
       "  <tbody>\n",
       "    <tr>\n",
       "      <th>0</th>\n",
       "      <td>D10024</td>\n",
       "      <td>TITULO_0</td>\n",
       "      <td>CAPITULO_0</td>\n",
       "      <td>artigo_0.txt</td>\n",
       "      <td>D10024/TITULO_0/capitulos/CAPITULO_0/artigos/a...</td>\n",
       "      <td>Presidência da República\\nSecretaria-Geral\\nSu...</td>\n",
       "    </tr>\n",
       "    <tr>\n",
       "      <th>1</th>\n",
       "      <td>D10024</td>\n",
       "      <td>TITULO_0</td>\n",
       "      <td>CAPITULO_I</td>\n",
       "      <td>artigo_0.txt</td>\n",
       "      <td>D10024/TITULO_0/capitulos/CAPITULO_I/artigos/a...</td>\n",
       "      <td>DISPOSIÇÕES PRELIMINARES\\nObjeto e âmbito de a...</td>\n",
       "    </tr>\n",
       "    <tr>\n",
       "      <th>2</th>\n",
       "      <td>D10024</td>\n",
       "      <td>TITULO_0</td>\n",
       "      <td>CAPITULO_I</td>\n",
       "      <td>artigo_1.txt</td>\n",
       "      <td>D10024/TITULO_0/capitulos/CAPITULO_I/artigos/a...</td>\n",
       "      <td>Art. 1º Este Decreto regulamenta a licitação, ...</td>\n",
       "    </tr>\n",
       "    <tr>\n",
       "      <th>3</th>\n",
       "      <td>D10024</td>\n",
       "      <td>TITULO_0</td>\n",
       "      <td>CAPITULO_I</td>\n",
       "      <td>artigo_2.txt</td>\n",
       "      <td>D10024/TITULO_0/capitulos/CAPITULO_I/artigos/a...</td>\n",
       "      <td>Art. 2º O pregão, na forma eletrônica, é condi...</td>\n",
       "    </tr>\n",
       "    <tr>\n",
       "      <th>4</th>\n",
       "      <td>D10024</td>\n",
       "      <td>TITULO_0</td>\n",
       "      <td>CAPITULO_I</td>\n",
       "      <td>artigo_3.txt</td>\n",
       "      <td>D10024/TITULO_0/capitulos/CAPITULO_I/artigos/a...</td>\n",
       "      <td>Art. 3º Para fins do disposto neste Decreto, c...</td>\n",
       "    </tr>\n",
       "  </tbody>\n",
       "</table>\n",
       "</div>"
      ],
      "text/plain": [
       "      lei    titulo    capitulo        artigo  \\\n",
       "0  D10024  TITULO_0  CAPITULO_0  artigo_0.txt   \n",
       "1  D10024  TITULO_0  CAPITULO_I  artigo_0.txt   \n",
       "2  D10024  TITULO_0  CAPITULO_I  artigo_1.txt   \n",
       "3  D10024  TITULO_0  CAPITULO_I  artigo_2.txt   \n",
       "4  D10024  TITULO_0  CAPITULO_I  artigo_3.txt   \n",
       "\n",
       "                                                path  \\\n",
       "0  D10024/TITULO_0/capitulos/CAPITULO_0/artigos/a...   \n",
       "1  D10024/TITULO_0/capitulos/CAPITULO_I/artigos/a...   \n",
       "2  D10024/TITULO_0/capitulos/CAPITULO_I/artigos/a...   \n",
       "3  D10024/TITULO_0/capitulos/CAPITULO_I/artigos/a...   \n",
       "4  D10024/TITULO_0/capitulos/CAPITULO_I/artigos/a...   \n",
       "\n",
       "                                               texto  \n",
       "0  Presidência da República\\nSecretaria-Geral\\nSu...  \n",
       "1  DISPOSIÇÕES PRELIMINARES\\nObjeto e âmbito de a...  \n",
       "2  Art. 1º Este Decreto regulamenta a licitação, ...  \n",
       "3  Art. 2º O pregão, na forma eletrônica, é condi...  \n",
       "4  Art. 3º Para fins do disposto neste Decreto, c...  "
      ]
     },
     "execution_count": 1,
     "metadata": {},
     "output_type": "execute_result"
    }
   ],
   "source": [
    "from langchain_core.documents import Document as LangchainDocument\n",
    "from langchain_text_splitters import RecursiveCharacterTextSplitter\n",
    "from langchain_community.vectorstores import FAISS\n",
    "from langchain_huggingface import HuggingFaceEmbeddings\n",
    "import pandas as pd\n",
    "\n",
    "dados = pd.read_csv('data/processed/v1_processed_articles.csv')\n",
    "dados.head()\n"
   ]
  },
  {
   "cell_type": "code",
   "execution_count": 2,
   "id": "0f5b7094",
   "metadata": {},
   "outputs": [
    {
     "data": {
      "text/plain": [
       "Index(['lei', 'titulo', 'capitulo', 'artigo', 'path', 'texto'], dtype='object')"
      ]
     },
     "execution_count": 2,
     "metadata": {},
     "output_type": "execute_result"
    }
   ],
   "source": [
    "dados.columns"
   ]
  },
  {
   "cell_type": "markdown",
   "id": "b345aebc",
   "metadata": {},
   "source": [
    "# Base bruta"
   ]
  },
  {
   "cell_type": "code",
   "execution_count": 3,
   "id": "23c89ac3",
   "metadata": {},
   "outputs": [
    {
     "data": {
      "text/plain": [
       "[Document(metadata={'lei': 'D10024', 'titulo': 'TITULO_0', 'capitulo': 'CAPITULO_III', 'artigo': 'artigo_0.txt', 'path': 'D10024/TITULO_0/capitulos/CAPITULO_III/artigos/artigo_0.txt'}, page_content='DO ACESSO AO SISTEMA ELETRÔNICO\\nCredenciamento')]"
      ]
     },
     "execution_count": 3,
     "metadata": {},
     "output_type": "execute_result"
    }
   ],
   "source": [
    "BASE_DADOS_BRUTA = [\n",
    "    LangchainDocument(\n",
    "        page_content=row[\"texto\"],\n",
    "        metadata={\n",
    "            \"lei\": row['lei'], \n",
    "            \"titulo\": row[\"titulo\"], \n",
    "            \"capitulo\": row[\"capitulo\"], \n",
    "            \"artigo\": row[\"artigo\"], \n",
    "            # \"tokens\": row[\"tokens\"], \n",
    "            \"path\": row[\"path\"]\n",
    "        }\n",
    "    )\n",
    "    for _, row in dados.iterrows()\n",
    "]\n",
    "\n",
    "BASE_DADOS_BRUTA[11:12]"
   ]
  },
  {
   "cell_type": "markdown",
   "id": "19d060b0",
   "metadata": {},
   "source": [
    "# Processamento de documentos"
   ]
  },
  {
   "cell_type": "code",
   "execution_count": 4,
   "id": "5e912ad5",
   "metadata": {},
   "outputs": [
    {
     "name": "stdout",
     "output_type": "stream",
     "text": [
      "Total de chunks: 1139\n"
     ]
    }
   ],
   "source": [
    "separador_texto = RecursiveCharacterTextSplitter(\n",
    "    chunk_size=1000,\n",
    "    chunk_overlap=150,\n",
    "    add_start_index=True,\n",
    "    strip_whitespace=True,\n",
    ")\n",
    "\n",
    "documentos_processados = []\n",
    "for doc_id, doc in enumerate(BASE_DADOS_BRUTA):\n",
    "    chunks = separador_texto.split_documents([doc])\n",
    "    for i, ch in enumerate(chunks):\n",
    "        base_meta = doc.metadata.copy()\n",
    "        ch.metadata = {\n",
    "            **base_meta,\n",
    "            **ch.metadata,     # preserva start_index, se veio\n",
    "            \"chunk_idx\": i,\n",
    "            \"orig_doc_id\": doc_id,\n",
    "        }\n",
    "        documentos_processados.append(ch)\n",
    "\n",
    "print(f\"Total de chunks: {len(documentos_processados)}\")"
   ]
  },
  {
   "cell_type": "markdown",
   "id": "aa9df28f",
   "metadata": {},
   "source": [
    "# Get vectors db"
   ]
  },
  {
   "cell_type": "code",
   "execution_count": 5,
   "id": "7543e6ba",
   "metadata": {},
   "outputs": [],
   "source": [
    "# CPU (sem torch)\n",
    "modelo_embedding = HuggingFaceEmbeddings(\n",
    "    model_name=\"sentence-transformers/paraphrase-multilingual-MiniLM-L12-v2\",\n",
    "    encode_kwargs={\"normalize_embeddings\": True},\n",
    ")\n",
    "\n",
    "vector_db = FAISS.from_documents(documentos_processados, modelo_embedding)\n",
    "vector_db.save_local(\"data/vector_db/v1_faiss_vector_db\")"
   ]
  },
  {
   "cell_type": "markdown",
   "id": "d9f45b38",
   "metadata": {},
   "source": [
    "# Simple sample query"
   ]
  },
  {
   "cell_type": "code",
   "execution_count": 6,
   "id": "ce661363",
   "metadata": {},
   "outputs": [
    {
     "name": "stdout",
     "output_type": "stream",
     "text": [
      "Documento 1 | score=0.5326\n",
      "Lei: D10024 | Título: TITULO_0 | Capítulo: CAPITULO_IV | Artigo: artigo_0.txt | Chunk: 0\n",
      "Path: D10024/TITULO_0/capitulos/CAPITULO_IV/artigos/artigo_0.txt\n",
      "DA CONDUÇÃO DO PROCESSO\n",
      "Órgão ou entidade promotora da licitação \n",
      " ------------------------------------------------------------------------------------------------------------------------ \n",
      "\n",
      "Documento 2 | score=0.6599\n",
      "Lei: L14133 | Título: TITULO_II | Capítulo: CAPITULO_VIII | Artigo: artigo_75.txt | Chunk: 0\n",
      "Path: L14133/TITULO_II/capitulos/CAPITULO_VIII/artigos/artigo_75.txt\n",
      "Art. 75. É dispensável a licitação:\n",
      "I - para contratação que envolva valores inferiores a R$ 100.000,00 (cem mil reais), no caso de obras e serviços\n",
      "de engenharia ou de serviços de manutenção de veículos automotores; (Vide Decreto nº 10.922, de 2021)\n",
      "(Vigência) (Vide Decreto nº 11.317, de 2022) Vigência (Vide Decreto nº 11.871, de 2023) Vigência (Vide\n",
      "Decreto nº 12.343, de 2024) Vigência\n",
      "II - para contratação que envolva valores inferiores a R$ 50.000,00 (cinquenta mil reais), no caso de outros\n",
      " \n",
      " ------------------------------------------------------------------------------------------------------------------------ \n",
      "\n",
      "Documento 3 | score=0.6662\n",
      "Lei: L14133 | Título: TITULO_II | Capítulo: CAPITULO_X | Artigo: artigo_82.txt | Chunk: 0\n",
      "Path: L14133/TITULO_II/capitulos/CAPITULO_X/artigos/artigo_82.txt\n",
      "Art. 82. O edital de licitação para registro de preços observará as regras gerais desta Lei e deverá dispor sobre:\n",
      "I - as especificidades da licitação e de seu objeto, inclusive a quantidade máxima de cada item que poderá ser\n",
      "adquirida;\n",
      "II - a quantidade mínima a ser cotada de unidades de bens ou, no caso de serviços, de unidades de medida;\n",
      "III - a possibilidade de prever preços diferentes:\n",
      "a) quando o objeto for realizado ou entregue em locais diferentes;\n",
      "b) em razão da forma e do local de acon \n",
      " ------------------------------------------------------------------------------------------------------------------------ \n",
      "\n",
      "Documento 4 | score=0.6837\n",
      "Lei: L14133 | Título: TITULO_III | Capítulo: CAPITULO_VII | Artigo: artigo_0.txt | Chunk: 0\n",
      "Path: L14133/TITULO_III/capitulos/CAPITULO_VII/artigos/artigo_0.txt\n",
      "DA ALTERAÇÃO DOS CONTRATOS E DOS PREÇOS \n",
      " ------------------------------------------------------------------------------------------------------------------------ \n",
      "\n",
      "Documento 5 | score=0.6952\n",
      "Lei: D10024 | Título: TITULO_0 | Capítulo: CAPITULO_XI | Artigo: artigo_0.txt | Chunk: 0\n",
      "Path: D10024/TITULO_0/capitulos/CAPITULO_XI/artigos/artigo_0.txt\n",
      "DO RECURSO\n",
      "Intenção de recorrer e prazo para recurso \n",
      " ------------------------------------------------------------------------------------------------------------------------ \n",
      "\n",
      "Documento 6 | score=0.6966\n",
      "Lei: D10024 | Título: TITULO_0 | Capítulo: CAPITULO_XIV | Artigo: artigo_48.txt | Chunk: 0\n",
      "Path: D10024/TITULO_0/capitulos/CAPITULO_XIV/artigos/artigo_48.txt\n",
      "Art. 48. Após a homologação, o adjudicatário será convocado para assinar o contrato ou a ata de registro de\n",
      "preços no prazo estabelecido no edital.\n",
      "[[PARAGRAPH: §1]]\n",
      "§ 1º Na assinatura do contrato ou da ata de registro de preços, será exigida a comprovação das condições de\n",
      "habilitação consignadas no edital, que deverão ser mantidas pelo licitante durante a vigência do contrato ou da ata de\n",
      "registro de preços.\n",
      "[[PARAGRAPH: §2]]\n",
      "§ 2º Na hipótese de o vencedor da licitação não comprovar as condiçõe \n",
      " ------------------------------------------------------------------------------------------------------------------------ \n",
      "\n",
      "Documento 7 | score=0.7036\n",
      "Lei: L14133 | Título: TITULO_V | Capítulo: CAPITULO_II | Artigo: artigo_337-F.txt | Chunk: 0\n",
      "Path: L14133/TITULO_V/capitulos/CAPITULO_II/artigos/artigo_337-F.txt\n",
      "Art. 337-F. Frustrar ou fraudar, com o intuito de obter para si ou para outrem\n",
      "vantagem decorrente da adjudicação do objeto da licitação, o caráter competitivo do\n",
      "processo licitatório:\n",
      "Pena - reclusão, de 4 (quatro) anos a 8 (oito) anos, e multa.\n",
      "Patrocínio de contratação indevida \n",
      " ------------------------------------------------------------------------------------------------------------------------ \n",
      "\n",
      "Documento 8 | score=0.7074\n",
      "Lei: L14133 | Título: TITULO_II | Capítulo: CAPITULO_I | Artigo: artigo_12.txt | Chunk: 0\n",
      "Path: L14133/TITULO_II/capitulos/CAPITULO_I/artigos/artigo_12.txt\n",
      "Art. 12. No processo licitatório, observar-se-á o seguinte:\n",
      "I - os documentos serão produzidos por escrito, com data e local de sua realização e assinatura dos\n",
      "responsáveis;\n",
      "II - os valores, os preços e os custos utilizados terão como expressão monetária a moeda corrente nacional,\n",
      "ressalvado o disposto no art. 52 desta Lei;\n",
      "III - o desatendimento de exigências meramente formais que não comprometam a aferição da qualificação do\n",
      "licitante ou a compreensão do conteúdo de sua proposta não importará  \n",
      " ------------------------------------------------------------------------------------------------------------------------ \n",
      "\n"
     ]
    }
   ],
   "source": [
    "pergunta = \"dispensa de licitação por valor\"\n",
    "resultado = vector_db.similarity_search_with_score(pergunta, k=8)\n",
    "\n",
    "for i, (doc, score) in enumerate(resultado, start=1):\n",
    "    md = doc.metadata or {}\n",
    "    print(f\"Documento {i} | score={score:.4f}\")\n",
    "    print(f\"Lei: {md.get('lei')} | Título: {md.get('titulo')} | Capítulo: {md.get('capitulo')} | Artigo: {md.get('artigo')} | Chunk: {md.get('chunk_idx')}\")\n",
    "    print(f\"Path: {md.get('path')}\")\n",
    "    print(doc.page_content[:500], \"\\n\", \"--\"*60, \"\\n\")\n"
   ]
  },
  {
   "cell_type": "markdown",
   "id": "90ebd1da",
   "metadata": {},
   "source": [
    "# Load Test"
   ]
  },
  {
   "cell_type": "code",
   "execution_count": 7,
   "id": "9d68a982",
   "metadata": {},
   "outputs": [
    {
     "name": "stdout",
     "output_type": "stream",
     "text": [
      "Documento 1 | score=0.5326\n",
      "Lei: D10024 | Título: TITULO_0 | Capítulo: CAPITULO_IV | Artigo: artigo_0.txt | Chunk: 0\n",
      "Path: D10024/TITULO_0/capitulos/CAPITULO_IV/artigos/artigo_0.txt\n",
      "DA CONDUÇÃO DO PROCESSO\n",
      "Órgão ou entidade promotora da licitação \n",
      " ------------------------------------------------------------------------------------------------------------------------ \n",
      "\n",
      "Documento 2 | score=0.6599\n",
      "Lei: L14133 | Título: TITULO_II | Capítulo: CAPITULO_VIII | Artigo: artigo_75.txt | Chunk: 0\n",
      "Path: L14133/TITULO_II/capitulos/CAPITULO_VIII/artigos/artigo_75.txt\n",
      "Art. 75. É dispensável a licitação:\n",
      "I - para contratação que envolva valores inferiores a R$ 100.000,00 (cem mil reais), no caso de obras e serviços\n",
      "de engenharia ou de serviços de manutenção de veículos automotores; (Vide Decreto nº 10.922, de 2021)\n",
      "(Vigência) (Vide Decreto nº 11.317, de 2022) Vigência (Vide Decreto nº 11.871, de 2023) Vigência (Vide\n",
      "Decreto nº 12.343, de 2024) Vigência\n",
      "II - para contratação que envolva valores inferiores a R$ 50.000,00 (cinquenta mil reais), no caso de outros\n",
      " \n",
      " ------------------------------------------------------------------------------------------------------------------------ \n",
      "\n",
      "Documento 3 | score=0.6662\n",
      "Lei: L14133 | Título: TITULO_II | Capítulo: CAPITULO_X | Artigo: artigo_82.txt | Chunk: 0\n",
      "Path: L14133/TITULO_II/capitulos/CAPITULO_X/artigos/artigo_82.txt\n",
      "Art. 82. O edital de licitação para registro de preços observará as regras gerais desta Lei e deverá dispor sobre:\n",
      "I - as especificidades da licitação e de seu objeto, inclusive a quantidade máxima de cada item que poderá ser\n",
      "adquirida;\n",
      "II - a quantidade mínima a ser cotada de unidades de bens ou, no caso de serviços, de unidades de medida;\n",
      "III - a possibilidade de prever preços diferentes:\n",
      "a) quando o objeto for realizado ou entregue em locais diferentes;\n",
      "b) em razão da forma e do local de acon \n",
      " ------------------------------------------------------------------------------------------------------------------------ \n",
      "\n",
      "Documento 4 | score=0.6837\n",
      "Lei: L14133 | Título: TITULO_III | Capítulo: CAPITULO_VII | Artigo: artigo_0.txt | Chunk: 0\n",
      "Path: L14133/TITULO_III/capitulos/CAPITULO_VII/artigos/artigo_0.txt\n",
      "DA ALTERAÇÃO DOS CONTRATOS E DOS PREÇOS \n",
      " ------------------------------------------------------------------------------------------------------------------------ \n",
      "\n",
      "Documento 5 | score=0.6952\n",
      "Lei: D10024 | Título: TITULO_0 | Capítulo: CAPITULO_XI | Artigo: artigo_0.txt | Chunk: 0\n",
      "Path: D10024/TITULO_0/capitulos/CAPITULO_XI/artigos/artigo_0.txt\n",
      "DO RECURSO\n",
      "Intenção de recorrer e prazo para recurso \n",
      " ------------------------------------------------------------------------------------------------------------------------ \n",
      "\n",
      "Documento 6 | score=0.6966\n",
      "Lei: D10024 | Título: TITULO_0 | Capítulo: CAPITULO_XIV | Artigo: artigo_48.txt | Chunk: 0\n",
      "Path: D10024/TITULO_0/capitulos/CAPITULO_XIV/artigos/artigo_48.txt\n",
      "Art. 48. Após a homologação, o adjudicatário será convocado para assinar o contrato ou a ata de registro de\n",
      "preços no prazo estabelecido no edital.\n",
      "[[PARAGRAPH: §1]]\n",
      "§ 1º Na assinatura do contrato ou da ata de registro de preços, será exigida a comprovação das condições de\n",
      "habilitação consignadas no edital, que deverão ser mantidas pelo licitante durante a vigência do contrato ou da ata de\n",
      "registro de preços.\n",
      "[[PARAGRAPH: §2]]\n",
      "§ 2º Na hipótese de o vencedor da licitação não comprovar as condiçõe \n",
      " ------------------------------------------------------------------------------------------------------------------------ \n",
      "\n",
      "Documento 7 | score=0.7036\n",
      "Lei: L14133 | Título: TITULO_V | Capítulo: CAPITULO_II | Artigo: artigo_337-F.txt | Chunk: 0\n",
      "Path: L14133/TITULO_V/capitulos/CAPITULO_II/artigos/artigo_337-F.txt\n",
      "Art. 337-F. Frustrar ou fraudar, com o intuito de obter para si ou para outrem\n",
      "vantagem decorrente da adjudicação do objeto da licitação, o caráter competitivo do\n",
      "processo licitatório:\n",
      "Pena - reclusão, de 4 (quatro) anos a 8 (oito) anos, e multa.\n",
      "Patrocínio de contratação indevida \n",
      " ------------------------------------------------------------------------------------------------------------------------ \n",
      "\n",
      "Documento 8 | score=0.7074\n",
      "Lei: L14133 | Título: TITULO_II | Capítulo: CAPITULO_I | Artigo: artigo_12.txt | Chunk: 0\n",
      "Path: L14133/TITULO_II/capitulos/CAPITULO_I/artigos/artigo_12.txt\n",
      "Art. 12. No processo licitatório, observar-se-á o seguinte:\n",
      "I - os documentos serão produzidos por escrito, com data e local de sua realização e assinatura dos\n",
      "responsáveis;\n",
      "II - os valores, os preços e os custos utilizados terão como expressão monetária a moeda corrente nacional,\n",
      "ressalvado o disposto no art. 52 desta Lei;\n",
      "III - o desatendimento de exigências meramente formais que não comprometam a aferição da qualificação do\n",
      "licitante ou a compreensão do conteúdo de sua proposta não importará  \n",
      " ------------------------------------------------------------------------------------------------------------------------ \n",
      "\n"
     ]
    }
   ],
   "source": [
    "# 1) Embeddings (iguais aos usados na hora de salvar!)\n",
    "modelo_embedding = HuggingFaceEmbeddings(\n",
    "    model_name=\"sentence-transformers/paraphrase-multilingual-MiniLM-L12-v2\",\n",
    "    encode_kwargs={\"normalize_embeddings\": True},\n",
    ")\n",
    "\n",
    "# 2) Carregar o índice salvo\n",
    "vector_db = FAISS.load_local(\n",
    "    \"data/vector_db/v1_faiss_vector_db\",\n",
    "    embeddings=modelo_embedding,\n",
    "    allow_dangerous_deserialization=True,   # necessário nas versões novas do LC\n",
    ")\n",
    "\n",
    "# 3) Sua busca (sem mudar nada)\n",
    "pergunta = \"dispensa de licitação por valor\"\n",
    "resultado = vector_db.similarity_search_with_score(pergunta, k=8)\n",
    "\n",
    "for i, (doc, score) in enumerate(resultado, start=1):\n",
    "    md = doc.metadata or {}\n",
    "    print(f\"Documento {i} | score={score:.4f}\")\n",
    "    print(f\"Lei: {md.get('lei')} | Título: {md.get('titulo')} | Capítulo: {md.get('capitulo')} | Artigo: {md.get('artigo')} | Chunk: {md.get('chunk_idx')}\")\n",
    "    print(f\"Path: {md.get('path')}\")\n",
    "    print(doc.page_content[:500], \"\\n\", \"--\"*60, \"\\n\")"
   ]
  },
  {
   "cell_type": "code",
   "execution_count": 8,
   "id": "8e9fc43b",
   "metadata": {},
   "outputs": [],
   "source": [
    "import os\n",
    "from langchain.chat_models import init_chat_model\n",
    "from dotenv import load_dotenv\n",
    "load_dotenv()\n",
    "\n",
    "# os.environ[\"GOOGLE_API_KEY\"] = os.environ[\"GOOGLE_API_KEY\"]\n",
    "llm = init_chat_model(\"gemini-2.5-flash\", model_provider=\"google_genai\")"
   ]
  },
  {
   "cell_type": "code",
   "execution_count": 9,
   "id": "2416aa0b",
   "metadata": {},
   "outputs": [
    {
     "name": "stdout",
     "output_type": "stream",
     "text": [
      "Pergunta: dispensa de licitação por valor, o que é?\n",
      "Resposta: De acordo com o contexto fornecido, a dispensa de licitação por valor é aplicável nos seguintes casos:\n",
      "\n",
      "*   Para contratação que envolva valores inferiores a R$ 100.000,00 (cem mil reais), no caso de obras e serviços de engenharia ou de serviços de manutenção de veículos automotores.\n",
      "*   Para contratação que envolva valores inferiores a R$ 50.000,00 (cinquenta mil reais), no caso de outros serviços e compras.\n"
     ]
    }
   ],
   "source": [
    "# imports que existem no langchain moderno (core)\n",
    "from langchain_core.prompts import ChatPromptTemplate\n",
    "from langchain_core.runnables import RunnablePassthrough\n",
    "from langchain_core.output_parsers import StrOutputParser\n",
    "\n",
    "# seu retriever continua igual\n",
    "retriever = vector_db.as_retriever(search_type=\"mmr\", search_kwargs={\"k\": 5})\n",
    "\n",
    "prompt = ChatPromptTemplate.from_template(\n",
    "    \"Use APENAS o contexto para responder.\\n\\nContexto:\\n{context}\\n\\nPergunta:\\n{question}\"\n",
    ")\n",
    "\n",
    "# pipeline RAG sem langchain.chains\n",
    "rag_chain = (\n",
    "    {\"context\": retriever, \"question\": RunnablePassthrough()}\n",
    "    | prompt\n",
    "    | llm\n",
    "    | StrOutputParser()\n",
    ")\n",
    "\n",
    "pergunta = \"dispensa de licitação por valor, o que é?\"\n",
    "resposta = rag_chain.invoke(pergunta)\n",
    "\n",
    "print(\"Pergunta:\", pergunta)\n",
    "print(\"Resposta:\", resposta)\n"
   ]
  },
  {
   "cell_type": "code",
   "execution_count": null,
   "id": "86206dba",
   "metadata": {},
   "outputs": [],
   "source": []
  }
 ],
 "metadata": {
  "kernelspec": {
   "display_name": "amldo_kernel2",
   "language": "python",
   "name": "venv"
  },
  "language_info": {
   "codemirror_mode": {
    "name": "ipython",
    "version": 3
   },
   "file_extension": ".py",
   "mimetype": "text/x-python",
   "name": "python",
   "nbconvert_exporter": "python",
   "pygments_lexer": "ipython3",
   "version": "3.11.13"
  }
 },
 "nbformat": 4,
 "nbformat_minor": 5
}
